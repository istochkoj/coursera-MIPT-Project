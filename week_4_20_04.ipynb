{
 "cells": [
  {
   "cell_type": "code",
   "execution_count": 1,
   "metadata": {
    "collapsed": true
   },
   "outputs": [],
   "source": [
    "import numpy as np\n",
    "import pandas as pd\n",
    "import matplotlib.pyplot as plt\n",
    "plt.style.use('ggplot')\n",
    "%matplotlib inline"
   ]
  },
  {
   "cell_type": "code",
   "execution_count": 2,
   "metadata": {
    "collapsed": false
   },
   "outputs": [
    {
     "data": {
      "text/html": [
       "<div>\n",
       "<table border=\"1\" class=\"dataframe\">\n",
       "  <thead>\n",
       "    <tr style=\"text-align: right;\">\n",
       "      <th></th>\n",
       "      <th>Var1</th>\n",
       "      <th>Var2</th>\n",
       "      <th>Var3</th>\n",
       "      <th>Var4</th>\n",
       "      <th>Var5</th>\n",
       "      <th>Var6</th>\n",
       "      <th>Var7</th>\n",
       "      <th>Var8</th>\n",
       "      <th>Var9</th>\n",
       "      <th>Var10</th>\n",
       "      <th>...</th>\n",
       "      <th>Var222</th>\n",
       "      <th>Var223</th>\n",
       "      <th>Var224</th>\n",
       "      <th>Var225</th>\n",
       "      <th>Var226</th>\n",
       "      <th>Var227</th>\n",
       "      <th>Var228</th>\n",
       "      <th>Var229</th>\n",
       "      <th>Var230</th>\n",
       "      <th>target</th>\n",
       "    </tr>\n",
       "  </thead>\n",
       "  <tbody>\n",
       "    <tr>\n",
       "      <th>0</th>\n",
       "      <td>NaN</td>\n",
       "      <td>NaN</td>\n",
       "      <td>NaN</td>\n",
       "      <td>NaN</td>\n",
       "      <td>NaN</td>\n",
       "      <td>3052.0</td>\n",
       "      <td>NaN</td>\n",
       "      <td>NaN</td>\n",
       "      <td>NaN</td>\n",
       "      <td>NaN</td>\n",
       "      <td>...</td>\n",
       "      <td>vr93T2a</td>\n",
       "      <td>LM8l689qOp</td>\n",
       "      <td>NaN</td>\n",
       "      <td>NaN</td>\n",
       "      <td>fKCe</td>\n",
       "      <td>02N6s8f</td>\n",
       "      <td>xwM2aC7IdeMC0</td>\n",
       "      <td>NaN</td>\n",
       "      <td>NaN</td>\n",
       "      <td>-1</td>\n",
       "    </tr>\n",
       "    <tr>\n",
       "      <th>1</th>\n",
       "      <td>NaN</td>\n",
       "      <td>NaN</td>\n",
       "      <td>NaN</td>\n",
       "      <td>NaN</td>\n",
       "      <td>NaN</td>\n",
       "      <td>1813.0</td>\n",
       "      <td>7.0</td>\n",
       "      <td>NaN</td>\n",
       "      <td>NaN</td>\n",
       "      <td>NaN</td>\n",
       "      <td>...</td>\n",
       "      <td>6hQ9lNX</td>\n",
       "      <td>LM8l689qOp</td>\n",
       "      <td>NaN</td>\n",
       "      <td>ELof</td>\n",
       "      <td>xb3V</td>\n",
       "      <td>RAYp</td>\n",
       "      <td>55YFVY9</td>\n",
       "      <td>mj86</td>\n",
       "      <td>NaN</td>\n",
       "      <td>-1</td>\n",
       "    </tr>\n",
       "  </tbody>\n",
       "</table>\n",
       "<p>2 rows × 231 columns</p>\n",
       "</div>"
      ],
      "text/plain": [
       "   Var1  Var2  Var3  Var4  Var5    Var6  Var7  Var8  Var9  Var10   ...    \\\n",
       "0   NaN   NaN   NaN   NaN   NaN  3052.0   NaN   NaN   NaN    NaN   ...     \n",
       "1   NaN   NaN   NaN   NaN   NaN  1813.0   7.0   NaN   NaN    NaN   ...     \n",
       "\n",
       "    Var222      Var223  Var224  Var225  Var226   Var227         Var228  \\\n",
       "0  vr93T2a  LM8l689qOp     NaN     NaN    fKCe  02N6s8f  xwM2aC7IdeMC0   \n",
       "1  6hQ9lNX  LM8l689qOp     NaN    ELof    xb3V     RAYp        55YFVY9   \n",
       "\n",
       "   Var229  Var230  target  \n",
       "0     NaN     NaN      -1  \n",
       "1    mj86     NaN      -1  \n",
       "\n",
       "[2 rows x 231 columns]"
      ]
     },
     "execution_count": 2,
     "metadata": {},
     "output_type": "execute_result"
    }
   ],
   "source": [
    "data = pd.read_csv(\"orange_small_churn_data.txt\")\n",
    "data[\"target\"]=pd.read_csv(\"orange_small_churn_labels.txt\", header=None)\n",
    "data.head(2)"
   ]
  },
  {
   "cell_type": "code",
   "execution_count": 3,
   "metadata": {
    "collapsed": false
   },
   "outputs": [
    {
     "name": "stdout",
     "output_type": "stream",
     "text": [
      "(19, ['Var8', 'Var15', 'Var20', 'Var31', 'Var32', 'Var39', 'Var42', 'Var48', 'Var52', 'Var55', 'Var79', 'Var141', 'Var167', 'Var169', 'Var175', 'Var185', 'Var209', 'Var230', 'Var118'])\n"
     ]
    }
   ],
   "source": [
    "#столбцы, в которых нет значений\n",
    "# 16 численных\n",
    "# 2 категории\n",
    "\n",
    "fail=[]\n",
    "for i in data.columns:\n",
    "    if (data[i].isnull().sum() == len(data[i])): fail.append(i)\n",
    "#Пока не знаю, как иначе отловить столбец из всех Nan\n",
    "fail.append(\"Var118\")\n",
    "\n",
    "print (len(fail),fail)\n",
    "data1=data.drop(fail, axis=1)\n"
   ]
  },
  {
   "cell_type": "code",
   "execution_count": 4,
   "metadata": {
    "collapsed": true
   },
   "outputs": [],
   "source": [
    "# Заполним пропуски в численных данных\n",
    "data1 = data1.fillna(data1.median(axis=0), axis=0)"
   ]
  },
  {
   "cell_type": "code",
   "execution_count": 5,
   "metadata": {
    "collapsed": false
   },
   "outputs": [],
   "source": [
    "numerical_columns=data1.columns[:173]\n",
    "categorical_columns = data1.columns[173:211]"
   ]
  },
  {
   "cell_type": "code",
   "execution_count": 6,
   "metadata": {
    "collapsed": false
   },
   "outputs": [],
   "source": [
    "data1_describe = data1.describe(include=[object])\n",
    "\n",
    "for c in categorical_columns:\n",
    "    data1[c] = data1[c].fillna(data1_describe[c]['top'])\n",
    "    \n",
    "    # Теперь в данных нет пропусков\n"
   ]
  },
  {
   "cell_type": "code",
   "execution_count": 7,
   "metadata": {
    "collapsed": false
   },
   "outputs": [
    {
     "name": "stdout",
     "output_type": "stream",
     "text": [
      "('Var191', 1)\n",
      "('Var192', 354)\n",
      "('Var193', 50)\n",
      "('Var194', 3)\n",
      "('Var195', 23)\n",
      "('Var196', 4)\n",
      "('Var197', 220)\n",
      "('Var198', 3891)\n",
      "('Var199', 4400)\n",
      "('Var200', 13297)\n",
      "('Var201', 2)\n",
      "('Var202', 5542)\n",
      "('Var203', 5)\n",
      "('Var204', 100)\n",
      "('Var205', 3)\n",
      "('Var206', 21)\n",
      "('Var207', 14)\n",
      "('Var208', 2)\n",
      "('Var210', 6)\n",
      "('Var211', 2)\n",
      "('Var212', 78)\n",
      "('Var213', 1)\n",
      "('Var214', 13297)\n",
      "('Var215', 1)\n",
      "('Var216', 1819)\n",
      "('Var217', 12470)\n",
      "('Var218', 2)\n",
      "('Var219', 22)\n",
      "('Var220', 3891)\n",
      "('Var221', 7)\n",
      "('Var222', 3891)\n",
      "('Var223', 4)\n",
      "('Var224', 1)\n",
      "('Var225', 3)\n",
      "('Var226', 23)\n",
      "('Var227', 7)\n",
      "('Var228', 30)\n",
      "('Var229', 4)\n"
     ]
    }
   ],
   "source": [
    "# Обработаем категориальные переменные\n",
    "#Посмотрим количество разных категориальных типов в каждом признаке\n",
    "for x in categorical_columns:\n",
    "    print(x,len(set(data1[x].dropna().tolist())))\n",
    "#Заметим, что есть некоторое количество признаков с очень большим числом значений - использовать OneHot, например, \n",
    "#на всех данных, неразумно"
   ]
  },
  {
   "cell_type": "code",
   "execution_count": 8,
   "metadata": {
    "collapsed": false
   },
   "outputs": [
    {
     "name": "stdout",
     "output_type": "stream",
     "text": [
      "['Var201', 'Var208', 'Var211', 'Var218'] ['Var192', 'Var193', 'Var194', 'Var195', 'Var196', 'Var197', 'Var198', 'Var199', 'Var200', 'Var202', 'Var203', 'Var204', 'Var205', 'Var206', 'Var207', 'Var210', 'Var212', 'Var214', 'Var216', 'Var217', 'Var219', 'Var220', 'Var221', 'Var222', 'Var223', 'Var225', 'Var226', 'Var227', 'Var228', 'Var229']\n"
     ]
    }
   ],
   "source": [
    "#Обработаем бинарные признаки отдельно\n",
    "# Признаки, в которых всего одно значение, информации не несут\n",
    "\n",
    "binary_columns    = [c for c in categorical_columns if data1_describe[c]['unique'] == 2]\n",
    "nonbinary_columns = [c for c in categorical_columns if data1_describe[c]['unique'] > 2]\n",
    "print binary_columns, nonbinary_columns"
   ]
  },
  {
   "cell_type": "code",
   "execution_count": 9,
   "metadata": {
    "collapsed": true
   },
   "outputs": [],
   "source": [
    "#Значения бинарных признаков просто заменим на 0 и 1.\n",
    "\n",
    "for c in binary_columns:\n",
    "    top = data1_describe[c]['top']\n",
    "    top_items = data1[c] == top\n",
    "    data1.loc[top_items, c] = 0\n",
    "    data1.loc[np.logical_not(top_items), c] = 1"
   ]
  },
  {
   "cell_type": "code",
   "execution_count": 10,
   "metadata": {
    "collapsed": false
   },
   "outputs": [
    {
     "data": {
      "text/html": [
       "<div>\n",
       "<table border=\"1\" class=\"dataframe\">\n",
       "  <thead>\n",
       "    <tr style=\"text-align: right;\">\n",
       "      <th></th>\n",
       "      <th>Var201</th>\n",
       "      <th>Var208</th>\n",
       "      <th>Var211</th>\n",
       "      <th>Var218</th>\n",
       "    </tr>\n",
       "  </thead>\n",
       "  <tbody>\n",
       "    <tr>\n",
       "      <th>count</th>\n",
       "      <td>40000</td>\n",
       "      <td>40000</td>\n",
       "      <td>40000</td>\n",
       "      <td>40000</td>\n",
       "    </tr>\n",
       "    <tr>\n",
       "      <th>unique</th>\n",
       "      <td>2</td>\n",
       "      <td>2</td>\n",
       "      <td>2</td>\n",
       "      <td>2</td>\n",
       "    </tr>\n",
       "    <tr>\n",
       "      <th>top</th>\n",
       "      <td>0</td>\n",
       "      <td>0</td>\n",
       "      <td>0</td>\n",
       "      <td>0</td>\n",
       "    </tr>\n",
       "    <tr>\n",
       "      <th>freq</th>\n",
       "      <td>39994</td>\n",
       "      <td>36946</td>\n",
       "      <td>32215</td>\n",
       "      <td>20813</td>\n",
       "    </tr>\n",
       "  </tbody>\n",
       "</table>\n",
       "</div>"
      ],
      "text/plain": [
       "        Var201  Var208  Var211  Var218\n",
       "count    40000   40000   40000   40000\n",
       "unique       2       2       2       2\n",
       "top          0       0       0       0\n",
       "freq     39994   36946   32215   20813"
      ]
     },
     "execution_count": 10,
     "metadata": {},
     "output_type": "execute_result"
    }
   ],
   "source": [
    "#Посмотрим на результат:\n",
    "\n",
    "data1[binary_columns].describe()"
   ]
  },
  {
   "cell_type": "code",
   "execution_count": 11,
   "metadata": {
    "collapsed": false
   },
   "outputs": [],
   "source": [
    "data1_cat_code=pd.DataFrame()\n",
    "data1_cat_nocode=pd.DataFrame()"
   ]
  },
  {
   "cell_type": "code",
   "execution_count": 12,
   "metadata": {
    "collapsed": false
   },
   "outputs": [],
   "source": [
    "# отберем столбцы, которые разумно кодировать\n",
    "for x in nonbinary_columns:\n",
    "    if (len(set(data1[x].dropna().tolist()))<31):\n",
    "        data1_cat_code[x]=data1[x]\n",
    "    else:\n",
    "        data1_cat_nocode[x] = data1[x]\n",
    "\n",
    "# и закодируем их через dummy\n",
    "data1_cat_code = pd.get_dummies(data1_cat_code)"
   ]
  },
  {
   "cell_type": "code",
   "execution_count": 13,
   "metadata": {
    "collapsed": false
   },
   "outputs": [
    {
     "data": {
      "text/html": [
       "<div>\n",
       "<table border=\"1\" class=\"dataframe\">\n",
       "  <thead>\n",
       "    <tr style=\"text-align: right;\">\n",
       "      <th></th>\n",
       "      <th>Var192</th>\n",
       "      <th>Var193</th>\n",
       "      <th>Var197</th>\n",
       "      <th>Var198</th>\n",
       "      <th>Var199</th>\n",
       "      <th>Var200</th>\n",
       "      <th>Var202</th>\n",
       "      <th>Var204</th>\n",
       "      <th>Var212</th>\n",
       "      <th>Var214</th>\n",
       "      <th>Var216</th>\n",
       "      <th>Var217</th>\n",
       "      <th>Var220</th>\n",
       "      <th>Var222</th>\n",
       "    </tr>\n",
       "  </thead>\n",
       "  <tbody>\n",
       "    <tr>\n",
       "      <th>count</th>\n",
       "      <td>40000</td>\n",
       "      <td>40000</td>\n",
       "      <td>40000</td>\n",
       "      <td>40000</td>\n",
       "      <td>40000</td>\n",
       "      <td>40000</td>\n",
       "      <td>40000</td>\n",
       "      <td>40000</td>\n",
       "      <td>40000</td>\n",
       "      <td>40000</td>\n",
       "      <td>40000</td>\n",
       "      <td>40000</td>\n",
       "      <td>40000</td>\n",
       "      <td>40000</td>\n",
       "    </tr>\n",
       "    <tr>\n",
       "      <th>unique</th>\n",
       "      <td>354</td>\n",
       "      <td>50</td>\n",
       "      <td>220</td>\n",
       "      <td>3891</td>\n",
       "      <td>4400</td>\n",
       "      <td>13297</td>\n",
       "      <td>5542</td>\n",
       "      <td>100</td>\n",
       "      <td>78</td>\n",
       "      <td>13297</td>\n",
       "      <td>1819</td>\n",
       "      <td>12470</td>\n",
       "      <td>3891</td>\n",
       "      <td>3891</td>\n",
       "    </tr>\n",
       "    <tr>\n",
       "      <th>top</th>\n",
       "      <td>1GdOj1KXzC</td>\n",
       "      <td>RO12</td>\n",
       "      <td>0Xwj</td>\n",
       "      <td>fhk21Ss</td>\n",
       "      <td>r83_sZi</td>\n",
       "      <td>yP09M03</td>\n",
       "      <td>nyZz</td>\n",
       "      <td>RVjC</td>\n",
       "      <td>NhsEn4L</td>\n",
       "      <td>5zARyjR</td>\n",
       "      <td>mAjbk_S</td>\n",
       "      <td>gvA6</td>\n",
       "      <td>4UxGlow</td>\n",
       "      <td>catzS2D</td>\n",
       "    </tr>\n",
       "    <tr>\n",
       "      <th>freq</th>\n",
       "      <td>604</td>\n",
       "      <td>28817</td>\n",
       "      <td>3811</td>\n",
       "      <td>3557</td>\n",
       "      <td>750</td>\n",
       "      <td>20417</td>\n",
       "      <td>157</td>\n",
       "      <td>1464</td>\n",
       "      <td>23433</td>\n",
       "      <td>20417</td>\n",
       "      <td>3929</td>\n",
       "      <td>774</td>\n",
       "      <td>3557</td>\n",
       "      <td>3557</td>\n",
       "    </tr>\n",
       "  </tbody>\n",
       "</table>\n",
       "</div>"
      ],
      "text/plain": [
       "            Var192 Var193 Var197   Var198   Var199   Var200 Var202 Var204  \\\n",
       "count        40000  40000  40000    40000    40000    40000  40000  40000   \n",
       "unique         354     50    220     3891     4400    13297   5542    100   \n",
       "top     1GdOj1KXzC   RO12   0Xwj  fhk21Ss  r83_sZi  yP09M03   nyZz   RVjC   \n",
       "freq           604  28817   3811     3557      750    20417    157   1464   \n",
       "\n",
       "         Var212   Var214   Var216 Var217   Var220   Var222  \n",
       "count     40000    40000    40000  40000    40000    40000  \n",
       "unique       78    13297     1819  12470     3891     3891  \n",
       "top     NhsEn4L  5zARyjR  mAjbk_S   gvA6  4UxGlow  catzS2D  \n",
       "freq      23433    20417     3929    774     3557     3557  "
      ]
     },
     "execution_count": 13,
     "metadata": {},
     "output_type": "execute_result"
    }
   ],
   "source": [
    "data1_cat_nocode.describe()"
   ]
  },
  {
   "cell_type": "code",
   "execution_count": 14,
   "metadata": {
    "collapsed": false
   },
   "outputs": [],
   "source": [
    "# значения на остальных заменим количеством вхождений\n",
    "for x in data1_cat_nocode.columns:\n",
    "    data1_cat_nocode[x] = data1_cat_nocode[x].map(data1.groupby(x).size())"
   ]
  },
  {
   "cell_type": "code",
   "execution_count": 15,
   "metadata": {
    "collapsed": false
   },
   "outputs": [
    {
     "data": {
      "text/html": [
       "<div>\n",
       "<table border=\"1\" class=\"dataframe\">\n",
       "  <thead>\n",
       "    <tr style=\"text-align: right;\">\n",
       "      <th></th>\n",
       "      <th>Var192</th>\n",
       "      <th>Var193</th>\n",
       "      <th>Var197</th>\n",
       "      <th>Var198</th>\n",
       "      <th>Var199</th>\n",
       "      <th>Var200</th>\n",
       "      <th>Var202</th>\n",
       "      <th>Var204</th>\n",
       "      <th>Var212</th>\n",
       "      <th>Var214</th>\n",
       "      <th>Var216</th>\n",
       "      <th>Var217</th>\n",
       "      <th>Var220</th>\n",
       "      <th>Var222</th>\n",
       "    </tr>\n",
       "  </thead>\n",
       "  <tbody>\n",
       "    <tr>\n",
       "      <th>0</th>\n",
       "      <td>222</td>\n",
       "      <td>1763</td>\n",
       "      <td>96</td>\n",
       "      <td>3</td>\n",
       "      <td>46</td>\n",
       "      <td>20417</td>\n",
       "      <td>2</td>\n",
       "      <td>1350</td>\n",
       "      <td>525</td>\n",
       "      <td>20417</td>\n",
       "      <td>161</td>\n",
       "      <td>2</td>\n",
       "      <td>3</td>\n",
       "      <td>3</td>\n",
       "    </tr>\n",
       "    <tr>\n",
       "      <th>1</th>\n",
       "      <td>298</td>\n",
       "      <td>5781</td>\n",
       "      <td>273</td>\n",
       "      <td>1</td>\n",
       "      <td>240</td>\n",
       "      <td>1</td>\n",
       "      <td>7</td>\n",
       "      <td>488</td>\n",
       "      <td>5125</td>\n",
       "      <td>1</td>\n",
       "      <td>76</td>\n",
       "      <td>1</td>\n",
       "      <td>1</td>\n",
       "      <td>1</td>\n",
       "    </tr>\n",
       "  </tbody>\n",
       "</table>\n",
       "</div>"
      ],
      "text/plain": [
       "   Var192  Var193  Var197  Var198  Var199  Var200  Var202  Var204  Var212  \\\n",
       "0     222    1763      96       3      46   20417       2    1350     525   \n",
       "1     298    5781     273       1     240       1       7     488    5125   \n",
       "\n",
       "   Var214  Var216  Var217  Var220  Var222  \n",
       "0   20417     161       2       3       3  \n",
       "1       1      76       1       1       1  "
      ]
     },
     "execution_count": 15,
     "metadata": {},
     "output_type": "execute_result"
    }
   ],
   "source": [
    "data1_cat_nocode.head(2)"
   ]
  },
  {
   "cell_type": "code",
   "execution_count": 16,
   "metadata": {
    "collapsed": false
   },
   "outputs": [
    {
     "data": {
      "text/html": [
       "<div>\n",
       "<table border=\"1\" class=\"dataframe\">\n",
       "  <thead>\n",
       "    <tr style=\"text-align: right;\">\n",
       "      <th></th>\n",
       "      <th>Var1</th>\n",
       "      <th>Var2</th>\n",
       "      <th>Var3</th>\n",
       "      <th>Var4</th>\n",
       "      <th>Var5</th>\n",
       "      <th>Var6</th>\n",
       "      <th>Var7</th>\n",
       "      <th>Var9</th>\n",
       "      <th>Var10</th>\n",
       "      <th>Var11</th>\n",
       "      <th>...</th>\n",
       "      <th>Var180</th>\n",
       "      <th>Var181</th>\n",
       "      <th>Var182</th>\n",
       "      <th>Var183</th>\n",
       "      <th>Var184</th>\n",
       "      <th>Var186</th>\n",
       "      <th>Var187</th>\n",
       "      <th>Var188</th>\n",
       "      <th>Var189</th>\n",
       "      <th>Var190</th>\n",
       "    </tr>\n",
       "  </thead>\n",
       "  <tbody>\n",
       "    <tr>\n",
       "      <th>count</th>\n",
       "      <td>4.000000e+04</td>\n",
       "      <td>4.000000e+04</td>\n",
       "      <td>4.000000e+04</td>\n",
       "      <td>4.000000e+04</td>\n",
       "      <td>4.000000e+04</td>\n",
       "      <td>4.000000e+04</td>\n",
       "      <td>4.000000e+04</td>\n",
       "      <td>4.000000e+04</td>\n",
       "      <td>4.000000e+04</td>\n",
       "      <td>4.000000e+04</td>\n",
       "      <td>...</td>\n",
       "      <td>4.000000e+04</td>\n",
       "      <td>4.000000e+04</td>\n",
       "      <td>4.000000e+04</td>\n",
       "      <td>4.000000e+04</td>\n",
       "      <td>4.000000e+04</td>\n",
       "      <td>4.000000e+04</td>\n",
       "      <td>4.000000e+04</td>\n",
       "      <td>4.000000e+04</td>\n",
       "      <td>4.000000e+04</td>\n",
       "      <td>4.000000e+04</td>\n",
       "    </tr>\n",
       "    <tr>\n",
       "      <th>mean</th>\n",
       "      <td>-7.181172e-16</td>\n",
       "      <td>4.776732e-16</td>\n",
       "      <td>1.639159e-15</td>\n",
       "      <td>4.598092e-15</td>\n",
       "      <td>-8.683738e-16</td>\n",
       "      <td>-3.298528e-16</td>\n",
       "      <td>-2.907008e-16</td>\n",
       "      <td>1.197013e-15</td>\n",
       "      <td>-9.727774e-16</td>\n",
       "      <td>1.995660e-15</td>\n",
       "      <td>...</td>\n",
       "      <td>-2.655865e-16</td>\n",
       "      <td>-3.252162e-16</td>\n",
       "      <td>1.780880e-15</td>\n",
       "      <td>-1.521396e-15</td>\n",
       "      <td>8.531495e-16</td>\n",
       "      <td>5.037592e-16</td>\n",
       "      <td>-7.101524e-17</td>\n",
       "      <td>-5.161510e-12</td>\n",
       "      <td>3.661981e-16</td>\n",
       "      <td>-2.406861e-12</td>\n",
       "    </tr>\n",
       "    <tr>\n",
       "      <th>std</th>\n",
       "      <td>1.000000e+00</td>\n",
       "      <td>1.000000e+00</td>\n",
       "      <td>1.000000e+00</td>\n",
       "      <td>1.000000e+00</td>\n",
       "      <td>1.000000e+00</td>\n",
       "      <td>1.000000e+00</td>\n",
       "      <td>1.000000e+00</td>\n",
       "      <td>1.000000e+00</td>\n",
       "      <td>1.000000e+00</td>\n",
       "      <td>1.000000e+00</td>\n",
       "      <td>...</td>\n",
       "      <td>1.000000e+00</td>\n",
       "      <td>1.000000e+00</td>\n",
       "      <td>1.000000e+00</td>\n",
       "      <td>1.000000e+00</td>\n",
       "      <td>1.000000e+00</td>\n",
       "      <td>1.000000e+00</td>\n",
       "      <td>1.000000e+00</td>\n",
       "      <td>1.000000e+00</td>\n",
       "      <td>1.000000e+00</td>\n",
       "      <td>1.000000e+00</td>\n",
       "    </tr>\n",
       "    <tr>\n",
       "      <th>min</th>\n",
       "      <td>-3.589700e-02</td>\n",
       "      <td>-5.000000e-03</td>\n",
       "      <td>-1.516215e-02</td>\n",
       "      <td>-1.886168e-02</td>\n",
       "      <td>-5.910787e-02</td>\n",
       "      <td>-5.144314e-01</td>\n",
       "      <td>-1.149579e+00</td>\n",
       "      <td>-1.142457e+00</td>\n",
       "      <td>-6.458807e-02</td>\n",
       "      <td>-3.368723e-02</td>\n",
       "      <td>...</td>\n",
       "      <td>-5.108413e+00</td>\n",
       "      <td>-2.316928e-01</td>\n",
       "      <td>-3.222399e-01</td>\n",
       "      <td>-5.601663e-02</td>\n",
       "      <td>-3.324584e-02</td>\n",
       "      <td>-4.183833e-02</td>\n",
       "      <td>-6.217653e-01</td>\n",
       "      <td>-1.084422e+01</td>\n",
       "      <td>-4.703725e+00</td>\n",
       "      <td>-4.803691e+00</td>\n",
       "    </tr>\n",
       "    <tr>\n",
       "      <th>25%</th>\n",
       "      <td>-3.589700e-02</td>\n",
       "      <td>-5.000000e-03</td>\n",
       "      <td>-1.516215e-02</td>\n",
       "      <td>-1.886168e-02</td>\n",
       "      <td>-5.910787e-02</td>\n",
       "      <td>-2.787657e-01</td>\n",
       "      <td>-1.149579e+00</td>\n",
       "      <td>-2.194523e-02</td>\n",
       "      <td>-6.458807e-02</td>\n",
       "      <td>-3.368723e-02</td>\n",
       "      <td>...</td>\n",
       "      <td>-4.169863e-02</td>\n",
       "      <td>-2.316928e-01</td>\n",
       "      <td>-8.876006e-02</td>\n",
       "      <td>-5.601663e-02</td>\n",
       "      <td>-3.324584e-02</td>\n",
       "      <td>-4.183833e-02</td>\n",
       "      <td>-2.560508e-02</td>\n",
       "      <td>4.225332e-02</td>\n",
       "      <td>-4.373601e-03</td>\n",
       "      <td>-2.525782e-02</td>\n",
       "    </tr>\n",
       "    <tr>\n",
       "      <th>50%</th>\n",
       "      <td>-3.589700e-02</td>\n",
       "      <td>-5.000000e-03</td>\n",
       "      <td>-1.516215e-02</td>\n",
       "      <td>-1.886168e-02</td>\n",
       "      <td>-5.910787e-02</td>\n",
       "      <td>-1.680313e-01</td>\n",
       "      <td>3.117183e-02</td>\n",
       "      <td>-2.194523e-02</td>\n",
       "      <td>-6.458807e-02</td>\n",
       "      <td>-3.368723e-02</td>\n",
       "      <td>...</td>\n",
       "      <td>-4.169863e-02</td>\n",
       "      <td>-2.316928e-01</td>\n",
       "      <td>-8.876006e-02</td>\n",
       "      <td>-5.601663e-02</td>\n",
       "      <td>-3.324584e-02</td>\n",
       "      <td>-4.183833e-02</td>\n",
       "      <td>-2.560508e-02</td>\n",
       "      <td>4.225332e-02</td>\n",
       "      <td>-4.373601e-03</td>\n",
       "      <td>-2.525782e-02</td>\n",
       "    </tr>\n",
       "    <tr>\n",
       "      <th>75%</th>\n",
       "      <td>-3.589700e-02</td>\n",
       "      <td>-5.000000e-03</td>\n",
       "      <td>-1.516215e-02</td>\n",
       "      <td>-1.886168e-02</td>\n",
       "      <td>-5.910787e-02</td>\n",
       "      <td>1.936554e-02</td>\n",
       "      <td>3.117183e-02</td>\n",
       "      <td>-2.194523e-02</td>\n",
       "      <td>-6.458807e-02</td>\n",
       "      <td>-3.368723e-02</td>\n",
       "      <td>...</td>\n",
       "      <td>-4.169863e-02</td>\n",
       "      <td>-2.316928e-01</td>\n",
       "      <td>-8.876006e-02</td>\n",
       "      <td>-5.601663e-02</td>\n",
       "      <td>-3.324584e-02</td>\n",
       "      <td>-4.183833e-02</td>\n",
       "      <td>-2.560508e-02</td>\n",
       "      <td>4.225332e-02</td>\n",
       "      <td>-4.373601e-03</td>\n",
       "      <td>-2.525782e-02</td>\n",
       "    </tr>\n",
       "    <tr>\n",
       "      <th>max</th>\n",
       "      <td>1.226732e+02</td>\n",
       "      <td>1.999950e+02</td>\n",
       "      <td>1.836532e+02</td>\n",
       "      <td>1.077621e+02</td>\n",
       "      <td>4.922813e+01</td>\n",
       "      <td>5.293057e+01</td>\n",
       "      <td>4.754176e+00</td>\n",
       "      <td>1.277164e+02</td>\n",
       "      <td>7.161150e+01</td>\n",
       "      <td>5.855280e+01</td>\n",
       "      <td>...</td>\n",
       "      <td>2.475038e+01</td>\n",
       "      <td>2.043540e+01</td>\n",
       "      <td>2.550966e+01</td>\n",
       "      <td>8.410354e+01</td>\n",
       "      <td>1.781331e+02</td>\n",
       "      <td>8.513800e+01</td>\n",
       "      <td>1.350047e+02</td>\n",
       "      <td>2.324022e+01</td>\n",
       "      <td>6.617440e+00</td>\n",
       "      <td>8.249881e+01</td>\n",
       "    </tr>\n",
       "  </tbody>\n",
       "</table>\n",
       "<p>8 rows × 173 columns</p>\n",
       "</div>"
      ],
      "text/plain": [
       "               Var1          Var2          Var3          Var4          Var5  \\\n",
       "count  4.000000e+04  4.000000e+04  4.000000e+04  4.000000e+04  4.000000e+04   \n",
       "mean  -7.181172e-16  4.776732e-16  1.639159e-15  4.598092e-15 -8.683738e-16   \n",
       "std    1.000000e+00  1.000000e+00  1.000000e+00  1.000000e+00  1.000000e+00   \n",
       "min   -3.589700e-02 -5.000000e-03 -1.516215e-02 -1.886168e-02 -5.910787e-02   \n",
       "25%   -3.589700e-02 -5.000000e-03 -1.516215e-02 -1.886168e-02 -5.910787e-02   \n",
       "50%   -3.589700e-02 -5.000000e-03 -1.516215e-02 -1.886168e-02 -5.910787e-02   \n",
       "75%   -3.589700e-02 -5.000000e-03 -1.516215e-02 -1.886168e-02 -5.910787e-02   \n",
       "max    1.226732e+02  1.999950e+02  1.836532e+02  1.077621e+02  4.922813e+01   \n",
       "\n",
       "               Var6          Var7          Var9         Var10         Var11  \\\n",
       "count  4.000000e+04  4.000000e+04  4.000000e+04  4.000000e+04  4.000000e+04   \n",
       "mean  -3.298528e-16 -2.907008e-16  1.197013e-15 -9.727774e-16  1.995660e-15   \n",
       "std    1.000000e+00  1.000000e+00  1.000000e+00  1.000000e+00  1.000000e+00   \n",
       "min   -5.144314e-01 -1.149579e+00 -1.142457e+00 -6.458807e-02 -3.368723e-02   \n",
       "25%   -2.787657e-01 -1.149579e+00 -2.194523e-02 -6.458807e-02 -3.368723e-02   \n",
       "50%   -1.680313e-01  3.117183e-02 -2.194523e-02 -6.458807e-02 -3.368723e-02   \n",
       "75%    1.936554e-02  3.117183e-02 -2.194523e-02 -6.458807e-02 -3.368723e-02   \n",
       "max    5.293057e+01  4.754176e+00  1.277164e+02  7.161150e+01  5.855280e+01   \n",
       "\n",
       "           ...             Var180        Var181        Var182        Var183  \\\n",
       "count      ...       4.000000e+04  4.000000e+04  4.000000e+04  4.000000e+04   \n",
       "mean       ...      -2.655865e-16 -3.252162e-16  1.780880e-15 -1.521396e-15   \n",
       "std        ...       1.000000e+00  1.000000e+00  1.000000e+00  1.000000e+00   \n",
       "min        ...      -5.108413e+00 -2.316928e-01 -3.222399e-01 -5.601663e-02   \n",
       "25%        ...      -4.169863e-02 -2.316928e-01 -8.876006e-02 -5.601663e-02   \n",
       "50%        ...      -4.169863e-02 -2.316928e-01 -8.876006e-02 -5.601663e-02   \n",
       "75%        ...      -4.169863e-02 -2.316928e-01 -8.876006e-02 -5.601663e-02   \n",
       "max        ...       2.475038e+01  2.043540e+01  2.550966e+01  8.410354e+01   \n",
       "\n",
       "             Var184        Var186        Var187        Var188        Var189  \\\n",
       "count  4.000000e+04  4.000000e+04  4.000000e+04  4.000000e+04  4.000000e+04   \n",
       "mean   8.531495e-16  5.037592e-16 -7.101524e-17 -5.161510e-12  3.661981e-16   \n",
       "std    1.000000e+00  1.000000e+00  1.000000e+00  1.000000e+00  1.000000e+00   \n",
       "min   -3.324584e-02 -4.183833e-02 -6.217653e-01 -1.084422e+01 -4.703725e+00   \n",
       "25%   -3.324584e-02 -4.183833e-02 -2.560508e-02  4.225332e-02 -4.373601e-03   \n",
       "50%   -3.324584e-02 -4.183833e-02 -2.560508e-02  4.225332e-02 -4.373601e-03   \n",
       "75%   -3.324584e-02 -4.183833e-02 -2.560508e-02  4.225332e-02 -4.373601e-03   \n",
       "max    1.781331e+02  8.513800e+01  1.350047e+02  2.324022e+01  6.617440e+00   \n",
       "\n",
       "             Var190  \n",
       "count  4.000000e+04  \n",
       "mean  -2.406861e-12  \n",
       "std    1.000000e+00  \n",
       "min   -4.803691e+00  \n",
       "25%   -2.525782e-02  \n",
       "50%   -2.525782e-02  \n",
       "75%   -2.525782e-02  \n",
       "max    8.249881e+01  \n",
       "\n",
       "[8 rows x 173 columns]"
      ]
     },
     "execution_count": 16,
     "metadata": {},
     "output_type": "execute_result"
    }
   ],
   "source": [
    "#Нормируем данные\n",
    "data_numerical = data1[numerical_columns]\n",
    "data_numerical = (data_numerical - data_numerical.mean()) / data_numerical.std()\n",
    "data_numerical.describe()"
   ]
  },
  {
   "cell_type": "code",
   "execution_count": 17,
   "metadata": {
    "collapsed": false
   },
   "outputs": [],
   "source": [
    "#Соединяем все в одну таблицу\n",
    "data2=pd.concat( [data_numerical, data1[binary_columns], data1_cat_code,data1_cat_nocode, data1[\"target\"]], axis=1)"
   ]
  },
  {
   "cell_type": "code",
   "execution_count": 18,
   "metadata": {
    "collapsed": false
   },
   "outputs": [],
   "source": [
    "# Вырежем hold_out\n",
    "\n",
    "msk = np.random.rand(len(data2)) < 0.8\n",
    "train = data2[msk]\n",
    "holdout = data2[~msk]\n",
    "holdout.to_csv('hold_out.csv')"
   ]
  },
  {
   "cell_type": "code",
   "execution_count": 19,
   "metadata": {
    "collapsed": false
   },
   "outputs": [
    {
     "name": "stdout",
     "output_type": "stream",
     "text": [
      "Index([u'Var1', u'Var2', u'Var3', u'Var4', u'Var5', u'Var6', u'Var7', u'Var9',\n",
      "       u'Var10', u'Var11',\n",
      "       ...\n",
      "       u'Var199', u'Var200', u'Var202', u'Var204', u'Var212', u'Var214',\n",
      "       u'Var216', u'Var217', u'Var220', u'Var222'],\n",
      "      dtype='object', length=370)\n"
     ]
    }
   ],
   "source": [
    "X = train.drop(('target'), axis=1)  \n",
    "y = train['target']\n",
    "feature_names = X.columns\n",
    "print feature_names"
   ]
  },
  {
   "cell_type": "code",
   "execution_count": 23,
   "metadata": {
    "collapsed": false
   },
   "outputs": [],
   "source": [
    "# Сначала кросс валидацией разобьем данные на обучение и тест\n",
    "\n",
    "from sklearn import cross_validation\n",
    "X_train, X_test, y_train, y_test = cross_validation.train_test_split(X, y, test_size=0.33, random_state=42) "
   ]
  },
  {
   "cell_type": "markdown",
   "metadata": {},
   "source": [
    "# Проверим модели"
   ]
  },
  {
   "cell_type": "markdown",
   "metadata": {},
   "source": [
    "# Ridge"
   ]
  },
  {
   "cell_type": "code",
   "execution_count": 27,
   "metadata": {
    "collapsed": false
   },
   "outputs": [
    {
     "data": {
      "text/plain": [
       "0.92450066560442468"
      ]
     },
     "execution_count": 27,
     "metadata": {},
     "output_type": "execute_result"
    }
   ],
   "source": [
    "from sklearn.linear_model import RidgeClassifier\n",
    "clf = RidgeClassifier()\n",
    "\n",
    "#Проверка модели на кросс-валидации\n",
    "scores = cross_validation.cross_val_score(clf, X, y, cv = 5)\n",
    "scoresROCAUC =  cross_validation.\n",
    "\n",
    "print (\"accuracy\", scores.mean())"
   ]
  },
  {
   "cell_type": "code",
   "execution_count": 35,
   "metadata": {
    "collapsed": false
   },
   "outputs": [
    {
     "data": {
      "text/plain": [
       "0.68740677261372096"
      ]
     },
     "execution_count": 35,
     "metadata": {},
     "output_type": "execute_result"
    }
   ],
   "source": [
    "from sklearn.model_selection import cross_val_score\n",
    "scores =cross_val_score(clf, X, y, cv=5, scoring=\"roc_auc\") \n",
    "print (\"roc auc\", scores.mean())"
   ]
  },
  {
   "cell_type": "markdown",
   "metadata": {},
   "source": [
    "# Метод К соседей"
   ]
  },
  {
   "cell_type": "code",
   "execution_count": 39,
   "metadata": {
    "collapsed": false
   },
   "outputs": [
    {
     "name": "stdout",
     "output_type": "stream",
     "text": [
      "('accuracy', 0.91988912240562704)\n",
      "('roc auc', 0.53895909799142494)\n"
     ]
    }
   ],
   "source": [
    "from sklearn.neighbors import KNeighborsClassifier\n",
    "\n",
    "knn = KNeighborsClassifier()\n",
    "\n",
    "#Проверка модели на кросс-валидации\n",
    "scores = cross_validation.cross_val_score(knn, X, y, cv = 5)\n",
    "print (\"accuracy\",scores.mean())\n",
    "\n",
    "scores =cross_val_score(knn, X, y, cv=5, scoring=\"roc_auc\") \n",
    "print (\"roc auc\", scores.mean())"
   ]
  },
  {
   "cell_type": "markdown",
   "metadata": {},
   "source": [
    "# SVC"
   ]
  },
  {
   "cell_type": "code",
   "execution_count": null,
   "metadata": {
    "collapsed": false
   },
   "outputs": [],
   "source": [
    "from sklearn.svm import SVC\n",
    "svc = SVC()\n",
    "\n",
    "#Проверка модели на кросс-валидации\n",
    "scores = cross_validation.cross_val_score(svc, X, y, cv = 5)\n",
    "print (\"accuracy\",scores.mean())\n",
    "\n",
    "scores =cross_val_score(svc, X, y, cv=5, scoring=\"roc_auc\") \n",
    "print (\"roc auc\", scores.mean())"
   ]
  },
  {
   "cell_type": "markdown",
   "metadata": {},
   "source": [
    "# Random Forest"
   ]
  },
  {
   "cell_type": "code",
   "execution_count": 37,
   "metadata": {
    "collapsed": false
   },
   "outputs": [
    {
     "name": "stdout",
     "output_type": "stream",
     "text": [
      "('accuracy', 0.92474994503259467)\n",
      "('roc auc', 0.67685586493011951)\n"
     ]
    }
   ],
   "source": [
    "from sklearn import ensemble\n",
    "rf = ensemble.RandomForestClassifier(n_estimators=100, random_state=11)\n",
    "\n",
    "#Проверка модели на кросс-валидации\n",
    "scores = cross_validation.cross_val_score(rf, X, y, cv = 5)\n",
    "print (\"accuracy\",scores.mean())\n",
    "\n",
    "scores =cross_val_score(rf, X, y, cv=5, scoring=\"roc_auc\") \n",
    "print (\"roc auc\", scores.mean())"
   ]
  },
  {
   "cell_type": "markdown",
   "metadata": {},
   "source": [
    "# GBT"
   ]
  },
  {
   "cell_type": "code",
   "execution_count": 36,
   "metadata": {
    "collapsed": false
   },
   "outputs": [
    {
     "name": "stdout",
     "output_type": "stream",
     "text": [
      "('accuracy', 0.92471876325789792)\n",
      "('roc auc', 0.73330629662216162)\n"
     ]
    }
   ],
   "source": [
    "#GBT – еще один метод, строящий ансамбль деревьев решений. \n",
    "#На каждой итерации строится новый классификатор, аппроксимирующий значение градиента функции потерь.\n",
    "\n",
    "from sklearn import ensemble\n",
    "gbt = ensemble.GradientBoostingClassifier(n_estimators=100, random_state=11)\n",
    "\n",
    "#Проверка модели на кросс-валидации\n",
    "scores = cross_validation.cross_val_score(gbt, X, y, cv = 5)\n",
    "print (\"accuracy\",scores.mean())\n",
    "\n",
    "scores =cross_val_score(gbt, X, y, cv=5, scoring=\"roc_auc\") \n",
    "print (\"roc auc\", scores.mean())"
   ]
  }
 ],
 "metadata": {
  "kernelspec": {
   "display_name": "Python 2",
   "language": "python",
   "name": "python2"
  },
  "language_info": {
   "codemirror_mode": {
    "name": "ipython",
    "version": 2
   },
   "file_extension": ".py",
   "mimetype": "text/x-python",
   "name": "python",
   "nbconvert_exporter": "python",
   "pygments_lexer": "ipython2",
   "version": "2.7.12"
  }
 },
 "nbformat": 4,
 "nbformat_minor": 0
}
